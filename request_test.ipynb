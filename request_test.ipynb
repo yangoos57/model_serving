{
 "cells": [
  {
   "cell_type": "markdown",
   "metadata": {},
   "source": [
    "### Request Predictions"
   ]
  },
  {
   "cell_type": "code",
   "execution_count": 44,
   "metadata": {},
   "outputs": [
    {
     "name": "stdout",
     "output_type": "stream",
     "text": [
      "요청 rows 개수 : 4\n",
      "요청 결과를 확인하고 싶은 경우 `print_result`를 True로 설정해주세요.\n",
      "{'data': {'prediction': [True, False, True, False],\n",
      "          'table_id': ['ef6db27c-259f-493d-ab93-a5af424cbbce',\n",
      "                       'c65e5b91-3b3d-48f9-9ae5-cf9fe07692a3',\n",
      "                       'f987b3c9-cc29-491e-ad8e-7c492d21df56',\n",
      "                       '91c5d4ba-a00e-4098-ac00-0577a6c4d178']},\n",
      " 'model_name': 'Random-Forest',\n",
      " 'type': 'Classifier',\n",
      " 'version': 'v0.1'}\n",
      "[{'id': 'ef6db27c-259f-493d-ab93-a5af424cbbce', 'Transported': True}, {'id': 'c65e5b91-3b3d-48f9-9ae5-cf9fe07692a3', 'Transported': True}, {'id': 'f987b3c9-cc29-491e-ad8e-7c492d21df56', 'Transported': False}, {'id': '91c5d4ba-a00e-4098-ac00-0577a6c4d178', 'Transported': False}]\n"
     ]
    }
   ],
   "source": [
    "import pandas as pd\n",
    "import requests\n",
    "\n",
    "\n",
    "def test(i: int, j: int, print_result: bool = True):\n",
    "    \"\"\"\n",
    "    모델 예측에 대한 테스트용 함수 입니다.\n",
    "    i,j는 test에 사용할 row 범위를 나타냅니다.\n",
    "    print_result는 응답 결과에 대한 출력 여부를 설정합니다.\n",
    "    \"\"\"\n",
    "\n",
    "    X_test = pd.read_csv(\"data/X_test.csv\").drop(columns=[\"Name\", \"group\"])\n",
    "    y_test = pd.read_csv(\"data/y_test.csv\")\n",
    "\n",
    "    # request Prediction\n",
    "    payloads = X_test.iloc[i:j].to_dict('list')\n",
    "    req = requests.post(\"http://localhost:8000/prediction\", json=payloads)\n",
    "\n",
    "    # to_json\n",
    "    req_json = req.json()\n",
    "    if print_result:\n",
    "        from pprint import pprint\n",
    "\n",
    "        pprint(req_json)\n",
    "\n",
    "    # response Customer_Adaptivity_Level\n",
    "    if req.status_code == 200:\n",
    "        customer_id: list = req_json[\"data\"][\"table_id\"]\n",
    "        customer_Transported: list = y_test[i:j].T.values.tolist()[0]\n",
    "\n",
    "        payloads_result = []\n",
    "        for id, level in zip(customer_id, customer_Transported):\n",
    "            result = dict(id=id, Transported=level)\n",
    "            payloads_result.append(result)\n",
    "        req = requests.post(\"http://localhost:8000/result\", json=payloads_result)\n",
    "    else:\n",
    "        raise ConnectionError(f'current status code is \"{req.status_code}\" ')\n",
    "\n",
    "    return None\n",
    "\n",
    "\n",
    "if __name__ == \"__main__\":\n",
    "    from random import sample\n",
    "\n",
    "    # 242 = len(y_test)\n",
    "    # a, b = sorted(sample(range(242), 2))\n",
    "    a = 1\n",
    "    b = 5\n",
    "\n",
    "    print(f\"요청 rows 개수 : {b-a}\")\n",
    "    print(\"요청 결과를 확인하고 싶은 경우 `print_result`를 True로 설정해주세요.\")\n",
    "    test(a, b, print_result=True)"
   ]
  },
  {
   "cell_type": "code",
   "execution_count": null,
   "metadata": {},
   "outputs": [],
   "source": [
    "payloads"
   ]
  },
  {
   "cell_type": "code",
   "execution_count": 5,
   "metadata": {},
   "outputs": [],
   "source": [
    "X_test = pd.read_csv(\"data/X_test.csv\").drop(columns=[\"Name\", \"group\"])"
   ]
  },
  {
   "cell_type": "code",
   "execution_count": 30,
   "metadata": {},
   "outputs": [
    {
     "data": {
      "text/plain": [
       "['Earth', 'Earth', 'Earth', 'Earth']"
      ]
     },
     "execution_count": 30,
     "metadata": {},
     "output_type": "execute_result"
    }
   ],
   "source": [
    "payloads = X_test.iloc[1:5].to_dict('list')\n",
    "\n",
    "payloads['HomePlanet']\n",
    "# dict(data=payloads)\n"
   ]
  }
 ],
 "metadata": {
  "kernelspec": {
   "display_name": "Python 3",
   "language": "python",
   "name": "python3"
  },
  "language_info": {
   "codemirror_mode": {
    "name": "ipython",
    "version": 3
   },
   "file_extension": ".py",
   "mimetype": "text/x-python",
   "name": "python",
   "nbconvert_exporter": "python",
   "pygments_lexer": "ipython3",
   "version": "3.9.1"
  },
  "orig_nbformat": 4,
  "vscode": {
   "interpreter": {
    "hash": "b2097164ba635ebffc0e3795dc845ae25b57eedf0c1eb5773ded6aee9fc1b279"
   }
  }
 },
 "nbformat": 4,
 "nbformat_minor": 2
}
