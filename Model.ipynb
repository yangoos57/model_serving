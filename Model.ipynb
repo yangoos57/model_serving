{
 "cells": [
  {
   "attachments": {},
   "cell_type": "markdown",
   "metadata": {},
   "source": [
    "### 데이터셋에 맞는 모델 선정 \n"
   ]
  },
  {
   "cell_type": "code",
   "execution_count": 1,
   "metadata": {},
   "outputs": [],
   "source": [
    "import pandas as pd\n",
    "\n",
    "X_train = pd.read_csv(\"data/X_train.csv\").drop(columns=[\"Name\", \"group\"])\n",
    "y_train = pd.read_csv(\"data/y_train.csv\")"
   ]
  },
  {
   "cell_type": "code",
   "execution_count": 10,
   "metadata": {},
   "outputs": [],
   "source": [
    "from sklearn.preprocessing import OrdinalEncoder, StandardScaler\n",
    "from sklearn.compose import make_column_selector as selector\n",
    "from sklearn.compose import ColumnTransformer\n",
    "\n",
    "\n",
    "# encoder\n",
    "categorical_preprocessor = OrdinalEncoder()\n",
    "numerical_preprocessor = StandardScaler()\n",
    "\n",
    "# split numerical & categorical data\n",
    "numerical_columns_selector = selector(dtype_exclude=[\"object\", \"bool\"])\n",
    "categorical_columns_selector = selector(dtype_include=[\"object\", \"bool\"])\n",
    "numerical_columns = numerical_columns_selector(X_train)\n",
    "categorical_columns = categorical_columns_selector(X_train)\n",
    "\n",
    "preprocessor = ColumnTransformer(\n",
    "    [\n",
    "        (\"standard_scaler\", numerical_preprocessor, numerical_columns),\n",
    "        (\"one-hot-encoder\", categorical_preprocessor, categorical_columns),\n",
    "    ]\n",
    ")\n"
   ]
  },
  {
   "attachments": {},
   "cell_type": "markdown",
   "metadata": {},
   "source": [
    "### Randomforest 모델 GridSearch\n"
   ]
  },
  {
   "cell_type": "code",
   "execution_count": 11,
   "metadata": {},
   "outputs": [
    {
     "name": "stdout",
     "output_type": "stream",
     "text": [
      "tuned hpyerparameters :(best parameters)  {'criterion': 'gini', 'max_depth': 12, 'max_features': 'auto', 'n_estimators': 100}\n",
      "acc : 0.8041252759381898\n",
      "\n",
      "\n"
     ]
    }
   ],
   "source": [
    "from sklearn.ensemble import RandomForestClassifier\n",
    "from sklearn.model_selection import GridSearchCV\n",
    "\n",
    "param_grid = {\n",
    "    \"n_estimators\": [50, 100, 200, 300, 400],\n",
    "    \"max_features\": [\"auto\", \"sqrt\", \"log2\"],\n",
    "    \"max_depth\": [6, 8, 10, 12, 14, 16],\n",
    "    \"criterion\": [\"gini\", \"entropy\"],\n",
    "}\n",
    "rfc = RandomForestClassifier(random_state=42)\n",
    "CV_rfc = GridSearchCV(\n",
    "    estimator=rfc,\n",
    "    param_grid=param_grid,\n",
    "    cv=5,\n",
    ")\n",
    "\n",
    "X_new = preprocessor.fit_transform(X_train)\n",
    "CV_rfc.fit(X_new, y_train.values.ravel())\n",
    "\n",
    "print(\"tuned hpyerparameters :(best parameters) \", CV_rfc.best_params_)\n",
    "print(\"acc :\", CV_rfc.best_score_)\n",
    "print(\"\\n\")\n"
   ]
  },
  {
   "attachments": {},
   "cell_type": "markdown",
   "metadata": {},
   "source": [
    "### LogisticRegression 모델 GridSearch\n"
   ]
  },
  {
   "cell_type": "code",
   "execution_count": 3,
   "metadata": {},
   "outputs": [
    {
     "name": "stdout",
     "output_type": "stream",
     "text": [
      "tuned hpyerparameters :(best parameters)  {'C': 2.154434690031882, 'penalty': 'l2'}\n",
      "f1-score(macro) : 0.7846338264384622\n",
      "\n",
      "\n"
     ]
    }
   ],
   "source": [
    "from sklearn.linear_model import LogisticRegression\n",
    "from sklearn.model_selection import GridSearchCV\n",
    "import numpy as np\n",
    "import warnings\n",
    "\n",
    "warnings.filterwarnings(\"ignore\")\n",
    "\n",
    "grid = {\"C\": np.logspace(-3, 3, 10), \"penalty\": [\"none\", \"l2\", \"l1\"]}\n",
    "rfc = LogisticRegression()\n",
    "CV_rfc = GridSearchCV(estimator=rfc, param_grid=grid, cv=5)\n",
    "\n",
    "X_new = preprocessor.fit_transform(X_train)\n",
    "CV_rfc.fit(X_new, y_train.values.ravel())\n",
    "\n",
    "print(\"tuned hpyerparameters :(best parameters) \", CV_rfc.best_params_)\n",
    "print(\"f1-score(macro) :\", CV_rfc.best_score_)\n",
    "print(\"\\n\")\n"
   ]
  },
  {
   "attachments": {},
   "cell_type": "markdown",
   "metadata": {},
   "source": [
    "### 모델 평가\n"
   ]
  },
  {
   "attachments": {},
   "cell_type": "markdown",
   "metadata": {},
   "source": [
    "### RandomForest 모델 평가\n"
   ]
  },
  {
   "cell_type": "code",
   "execution_count": 4,
   "metadata": {},
   "outputs": [
    {
     "name": "stdout",
     "output_type": "stream",
     "text": [
      "accuracy_score :  0.8161875945537065\n"
     ]
    }
   ],
   "source": [
    "from sklearn.preprocessing import OrdinalEncoder, StandardScaler\n",
    "from sklearn.compose import make_column_selector as selector\n",
    "from sklearn.ensemble import RandomForestClassifier\n",
    "from sklearn.compose import ColumnTransformer\n",
    "from sklearn.metrics import accuracy_score\n",
    "import pandas as pd\n",
    "\n",
    "### Column transformer\n",
    "# encoder\n",
    "categorical_preprocessor = OrdinalEncoder()\n",
    "numerical_preprocessor = StandardScaler()\n",
    "\n",
    "# train data\n",
    "X_train = pd.read_csv(\"data/X_train.csv\").drop(columns=[\"Name\", \"group\"])\n",
    "y_train = pd.read_csv(\"data/y_train.csv\")\n",
    "\n",
    "# split numerical & categorical data\n",
    "numerical_columns_selector = selector(dtype_exclude=[\"object\", \"bool\"])\n",
    "categorical_columns_selector = selector(dtype_include=[\"object\", \"bool\"])\n",
    "numerical_columns = numerical_columns_selector(X_train)\n",
    "categorical_columns = categorical_columns_selector(X_train)\n",
    "\n",
    "preprocessor = ColumnTransformer(\n",
    "    [\n",
    "        (\"standard_scaler\", numerical_preprocessor, numerical_columns),\n",
    "        (\"one-hot-encoder\", categorical_preprocessor, categorical_columns),\n",
    "    ]\n",
    ")\n",
    "\n",
    "\n",
    "### Encoding\n",
    "preprocessor_fit = preprocessor.fit(X_train, y_train)\n",
    "X_new = preprocessor_fit.transform(X_train)\n",
    "\n",
    "\n",
    "### Modeling\n",
    "params = {\"criterion\": \"gini\", \"max_depth\": 12, \"max_features\": \"auto\", \"n_estimators\": 100}\n",
    "rfc = RandomForestClassifier(**params, random_state=42)\n",
    "rfc.fit(X_new, y_train.values.ravel())\n",
    "\n",
    "### Testing\n",
    "X_test = pd.read_csv(\"data/X_test.csv\")\n",
    "y_test = pd.read_csv(\"data/y_test.csv\")\n",
    "\n",
    "X_new = preprocessor_fit.transform(X_test)\n",
    "y_predict = rfc.predict(X_new)\n",
    "\n",
    "\n",
    "# Metric\n",
    "print(\"accuracy_score : \", accuracy_score(y_test.values.ravel(), y_predict))\n"
   ]
  },
  {
   "cell_type": "code",
   "execution_count": 5,
   "metadata": {},
   "outputs": [
    {
     "name": "stdout",
     "output_type": "stream",
     "text": [
      "accuracy_score 0.8161875945537065\n"
     ]
    },
    {
     "data": {
      "image/png": "[encoded data removed]",
      "text/plain": [
       "<Figure size 1008x288 with 3 Axes>"
      ]
     },
     "metadata": {
      "needs_background": "light"
     },
     "output_type": "display_data"
    }
   ],
   "source": [
    "from sklearn.metrics import PrecisionRecallDisplay, RocCurveDisplay, ConfusionMatrixDisplay\n",
    "from sklearn.metrics import accuracy_score\n",
    "import matplotlib.pyplot as plt\n",
    "\n",
    "fig, axes = plt.subplots(nrows=1, ncols=3, figsize=(14, 4))\n",
    "\n",
    "\n",
    "print(\"accuracy_score\", accuracy_score(y_test.values.ravel(), y_predict))\n",
    "\n",
    "RocCurveDisplay.from_estimator(rfc, X_new, y_test.values.ravel(), name=\"randomforest\", ax=axes[0])\n",
    "axes[0].plot([0, 1], [0, 1], \"k--\")\n",
    "PrecisionRecallDisplay.from_estimator(\n",
    "    rfc, X_new, y_test.values.ravel(), name=\"randomforest\", ax=axes[1]\n",
    ")\n",
    "ConfusionMatrixDisplay.from_estimator(\n",
    "    rfc,\n",
    "    X_new,\n",
    "    y_test.values.ravel(),\n",
    "    ax=axes[2],\n",
    "    cmap=plt.cm.Blues,\n",
    "    normalize=\"pred\",\n",
    "    colorbar=False,\n",
    ")\n",
    "plt.show()\n"
   ]
  },
  {
   "attachments": {},
   "cell_type": "markdown",
   "metadata": {},
   "source": [
    "### Logistic Regression 모델 평가\n"
   ]
  },
  {
   "cell_type": "code",
   "execution_count": 6,
   "metadata": {},
   "outputs": [
    {
     "name": "stdout",
     "output_type": "stream",
     "text": [
      "accuracy_score :  0.773071104387292\n"
     ]
    }
   ],
   "source": [
    "from sklearn.preprocessing import OrdinalEncoder, StandardScaler\n",
    "from sklearn.compose import make_column_selector as selector\n",
    "from sklearn.linear_model import LogisticRegression\n",
    "from sklearn.compose import ColumnTransformer\n",
    "from sklearn.metrics import accuracy_score\n",
    "import pandas as pd\n",
    "\n",
    "### Column transformer\n",
    "# encoder\n",
    "categorical_preprocessor = OrdinalEncoder()\n",
    "numerical_preprocessor = StandardScaler()\n",
    "\n",
    "# train data\n",
    "X_train = pd.read_csv(\"data/X_train.csv\").drop(columns=[\"Name\", \"group\"])\n",
    "y_train = pd.read_csv(\"data/y_train.csv\")\n",
    "\n",
    "# split numerical & categorical data\n",
    "numerical_columns_selector = selector(dtype_exclude=[\"object\", \"bool\"])\n",
    "categorical_columns_selector = selector(dtype_include=[\"object\", \"bool\"])\n",
    "numerical_columns = numerical_columns_selector(X_train)\n",
    "categorical_columns = categorical_columns_selector(X_train)\n",
    "\n",
    "preprocessor = ColumnTransformer(\n",
    "    [\n",
    "        (\"standard_scaler\", numerical_preprocessor, numerical_columns),\n",
    "        (\"one-hot-encoder\", categorical_preprocessor, categorical_columns),\n",
    "    ]\n",
    ")\n",
    "\n",
    "### Encoding\n",
    "preprocessor_fit = preprocessor.fit(X_train, y_train)\n",
    "X_new = preprocessor_fit.transform(X_train)\n",
    "\n",
    "\n",
    "### Modeling\n",
    "params = {\"C\": 2.154434690031882, \"penalty\": \"l2\"}\n",
    "lg = LogisticRegression(**params)\n",
    "lg.fit(X_new, y_train.values.ravel())\n",
    "\n",
    "### Testing\n",
    "X_test = pd.read_csv(\"data/X_test.csv\")\n",
    "y_test = pd.read_csv(\"data/y_test.csv\")\n",
    "\n",
    "X_new = preprocessor_fit.transform(X_test)\n",
    "y_predict = lg.predict(X_new)\n",
    "\n",
    "\n",
    "# Metric\n",
    "print(\"accuracy_score : \", accuracy_score(y_test.values.ravel(), y_predict))\n"
   ]
  },
  {
   "cell_type": "code",
   "execution_count": 7,
   "metadata": {},
   "outputs": [
    {
     "name": "stdout",
     "output_type": "stream",
     "text": [
      "accuracy_score 0.773071104387292\n"
     ]
    },
    {
     "data": {
      "image/png": "[encoded data removed]",
      "text/plain": [
       "<Figure size 1008x288 with 3 Axes>"
      ]
     },
     "metadata": {
      "needs_background": "light"
     },
     "output_type": "display_data"
    }
   ],
   "source": [
    "from sklearn.metrics import (\n",
    "    PrecisionRecallDisplay,\n",
    "    RocCurveDisplay,\n",
    "    ConfusionMatrixDisplay,\n",
    "    accuracy_score,\n",
    ")\n",
    "import matplotlib.pyplot as plt\n",
    "\n",
    "fig, axes = plt.subplots(nrows=1, ncols=3, figsize=(14, 4))\n",
    "\n",
    "\n",
    "print(\"accuracy_score\", accuracy_score(y_test.values.ravel(), y_predict))\n",
    "\n",
    "RocCurveDisplay.from_estimator(\n",
    "    lg, X_new, y_test.values.ravel(), name=\"logisticregression\", ax=axes[0]\n",
    ")\n",
    "axes[0].plot([0, 1], [0, 1], \"k--\")\n",
    "PrecisionRecallDisplay.from_estimator(\n",
    "    lg, X_new, y_test.values.ravel(), name=\"logisticregression\", ax=axes[1]\n",
    ")\n",
    "ConfusionMatrixDisplay.from_estimator(\n",
    "    lg,\n",
    "    X_new,\n",
    "    y_test.values.ravel(),\n",
    "    ax=axes[2],\n",
    "    cmap=plt.cm.Blues,\n",
    "    normalize=\"pred\",\n",
    "    colorbar=False,\n",
    ")\n",
    "plt.show()\n"
   ]
  },
  {
   "attachments": {},
   "cell_type": "markdown",
   "metadata": {},
   "source": [
    "### Pipeline 구성 및 RandomForest 모델 저장"
   ]
  },
  {
   "cell_type": "code",
   "execution_count": 8,
   "metadata": {},
   "outputs": [
    {
     "name": "stdout",
     "output_type": "stream",
     "text": [
      "accuracy_score :  0.8161875945537065\n"
     ]
    }
   ],
   "source": [
    "from sklearn.preprocessing import OrdinalEncoder, StandardScaler\n",
    "from sklearn.compose import make_column_selector as selector\n",
    "from sklearn.ensemble import RandomForestClassifier\n",
    "from sklearn.compose import ColumnTransformer\n",
    "from sklearn.metrics import accuracy_score\n",
    "from sklearn.pipeline import Pipeline\n",
    "import pandas as pd\n",
    "\n",
    "### Column transformer\n",
    "# encoder\n",
    "categorical_preprocessor = OrdinalEncoder()\n",
    "numerical_preprocessor = StandardScaler()\n",
    "\n",
    "# train_data\n",
    "X_train = pd.read_csv(\"data/X_train.csv\").drop(columns=[\"Name\", \"group\"])\n",
    "y_train = pd.read_csv(\"data/y_train.csv\")\n",
    "\n",
    "# split numerical & categorical data\n",
    "numerical_columns_selector = selector(dtype_exclude=[\"object\", \"bool\"])\n",
    "categorical_columns_selector = selector(dtype_include=[\"object\", \"bool\"])\n",
    "numerical_columns = numerical_columns_selector(X_train)\n",
    "categorical_columns = categorical_columns_selector(X_train)\n",
    "\n",
    "preprocessor = ColumnTransformer(\n",
    "    [\n",
    "        (\"standard_scaler\", numerical_preprocessor, numerical_columns),\n",
    "        (\"one-hot-encoder\", categorical_preprocessor, categorical_columns),\n",
    "    ]\n",
    ")\n",
    "\n",
    "### pipeline\n",
    "\n",
    "# Metric\n",
    "params = {\"criterion\": \"gini\", \"max_depth\": 12, \"max_features\": \"auto\", \"n_estimators\": 100}\n",
    "pipe = Pipeline(\n",
    "    steps=[\n",
    "        (\"column_transformer\", preprocessor),\n",
    "        (\"Model\", RandomForestClassifier(**params, random_state=42)),\n",
    "    ]\n",
    ")\n",
    "pipe.fit(X_train, y_train.values.ravel())\n",
    "\n",
    "\n",
    "### Testing\n",
    "X_test = pd.read_csv(\"data/X_test.csv\")\n",
    "y_test = pd.read_csv(\"data/y_test.csv\")\n",
    "\n",
    "print(\"accuracy_score : \", accuracy_score(y_test.values.ravel(), pipe.predict(X_test)))"
   ]
  },
  {
   "cell_type": "code",
   "execution_count": 9,
   "metadata": {},
   "outputs": [
    {
     "data": {
      "text/plain": [
       "['models/random_forest.pkl']"
      ]
     },
     "execution_count": 9,
     "metadata": {},
     "output_type": "execute_result"
    }
   ],
   "source": [
    "import joblib\n",
    "joblib.dump(pipe,\"models/random_forest.pkl\")"
   ]
  }
 ],
 "metadata": {
  "kernelspec": {
   "display_name": "Python 3",
   "language": "python",
   "name": "python3"
  },
  "language_info": {
   "codemirror_mode": {
    "name": "ipython",
    "version": 3
   },
   "file_extension": ".py",
   "mimetype": "text/x-python",
   "name": "python",
   "nbconvert_exporter": "python",
   "pygments_lexer": "ipython3",
   "version": "3.9.1"
  },
  "orig_nbformat": 4,
  "vscode": {
   "interpreter": {
    "hash": "b2097164ba635ebffc0e3795dc845ae25b57eedf0c1eb5773ded6aee9fc1b279"
   }
  }
 },
 "nbformat": 4,
 "nbformat_minor": 2
}
